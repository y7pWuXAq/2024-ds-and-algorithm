{
 "cells": [
  {
   "cell_type": "code",
   "execution_count": 34,
   "metadata": {},
   "outputs": [],
   "source": [
    "# file : ds01_syntax.ipynb\n",
    "# desc : 파이썬 기본문법 복습"
   ]
  },
  {
   "cell_type": "markdown",
   "metadata": {},
   "source": [
    "## 자료구조와 알고리즘\n",
    "- 파이썬 기본문법과 복습\n",
    "\n",
    "### 1. 콘솔출력\n",
    "print()"
   ]
  },
  {
   "cell_type": "code",
   "execution_count": 35,
   "metadata": {},
   "outputs": [],
   "source": [
    "# 코딩 네이밍룰(Naming Rule)\n",
    "# 변수 앞 i를 적으면 정수형, f를 적으면 실수형, s를 적으면 문자열형, is를 쓰면 Boolean형\n",
    "isBasic = True\n",
    "iMonth = 12\n",
    "sMonth = 'December'\n",
    "fTaxRate = 10.2\n",
    "\n",
    "isBasic, iMonth, sMonth, fTaxRate = False, 1, 'January', 8.8"
   ]
  },
  {
   "cell_type": "code",
   "execution_count": 36,
   "metadata": {},
   "outputs": [
    {
     "name": "stdout",
     "output_type": "stream",
     "text": [
      "<class 'bool'> <class 'int'> <class 'str'>\n"
     ]
    }
   ],
   "source": [
    "# 각 변수별 타입확인, 주피터 노트북에서는 변수나 함수만 써서 화면출력 가능\n",
    "# print()\n",
    "print(type(isBasic),type(iMonth), type(sMonth))"
   ]
  },
  {
   "cell_type": "code",
   "execution_count": null,
   "metadata": {},
   "outputs": [],
   "source": [
    "# 구식방법\n",
    "# 100 출력 방법 : 100, '100', '%d' & 100\n",
    "# '%d' 정수를 출력, % 뒤에 있는 값을 정수형 문자열로 출력\n",
    "print('%d' & 100)"
   ]
  },
  {
   "cell_type": "code",
   "execution_count": null,
   "metadata": {},
   "outputs": [
    {
     "name": "stdout",
     "output_type": "stream",
     "text": [
      "200\n"
     ]
    }
   ],
   "source": [
    "print('%d' % (100 + 100))"
   ]
  },
  {
   "cell_type": "code",
   "execution_count": null,
   "metadata": {},
   "outputs": [
    {
     "name": "stdout",
     "output_type": "stream",
     "text": [
      "108 / 209\n"
     ]
    }
   ],
   "source": [
    "# 구식방법, 잘못된 예 %d의 개수와 % 뒤에 값 개수가 일치해야 함\n",
    "print('%d / %d' %(108, 209))"
   ]
  },
  {
   "cell_type": "code",
   "execution_count": null,
   "metadata": {},
   "outputs": [
    {
     "name": "stdout",
     "output_type": "stream",
     "text": [
      "01 / January / 8.80 / H / ff / 71\n"
     ]
    }
   ],
   "source": [
    "# 구식 %문자열 포맷에는 2진수가 없음(C언어부터 넘어온 것)\n",
    "print('%02d / %s / %.2f / %c / %x / %o' % (iMonth, sMonth, fTaxRate, 'H', 255, 57))"
   ]
  },
  {
   "cell_type": "code",
   "execution_count": null,
   "metadata": {},
   "outputs": [
    {
     "name": "stdout",
     "output_type": "stream",
     "text": [
      "01 / January / 8.80 / h / ff / 71 / 10000\n"
     ]
    }
   ],
   "source": [
    "# 신식방법 포맷스트링 (90년대 경 발전)\n",
    "print('{0:02d} / {1} / {2:.2f} / {3} / {4:x} / {5:o} / {6:b}'.format(iMonth, sMonth, fTaxRate, 'h', 255, 57, 16))"
   ]
  },
  {
   "cell_type": "code",
   "execution_count": null,
   "metadata": {},
   "outputs": [
    {
     "name": "stdout",
     "output_type": "stream",
     "text": [
      "01 / January / 8.80 / H / FF / 71 / 1111111111\n"
     ]
    }
   ],
   "source": [
    "## 최신식방법 포맷스트링 (python 3.6 이후 개발(2015년))\n",
    "print(f'{iMonth:02d} / {sMonth} / {fTaxRate:.2f} / {\"H\"} / {255:X} / {57:o} / {1023:b}')"
   ]
  },
  {
   "cell_type": "markdown",
   "metadata": {},
   "source": [
    "### 2. 입력\n",
    "- input()"
   ]
  },
  {
   "cell_type": "code",
   "execution_count": 41,
   "metadata": {},
   "outputs": [
    {
     "name": "stdout",
     "output_type": "stream",
     "text": [
      "1223\n"
     ]
    }
   ],
   "source": [
    "# 입력은 무조건 문자열(str) x = 12, y = 23\n",
    "x = input()\n",
    "y = input()\n",
    "print(x + y)"
   ]
  },
  {
   "cell_type": "code",
   "execution_count": 49,
   "metadata": {},
   "outputs": [
    {
     "name": "stdout",
     "output_type": "stream",
     "text": [
      "35\n"
     ]
    }
   ],
   "source": [
    "# 입력을 정수로 변경해줘야 함 x = 12, y = 23\n",
    "x = int(input())\n",
    "y = int(input())\n",
    "print(x + y)"
   ]
  },
  {
   "cell_type": "code",
   "execution_count": 51,
   "metadata": {},
   "outputs": [
    {
     "name": "stdout",
     "output_type": "stream",
     "text": [
      "35.0\n"
     ]
    }
   ],
   "source": [
    "# 실수는 float()으로 변환 / 정수 -> 실수 자동변환 / 실수 -> 정수 수동변환\n",
    "# x = 12, y = 23\n",
    "x = float(input())\n",
    "y = float(input())\n",
    "print(x + y)"
   ]
  },
  {
   "cell_type": "code",
   "execution_count": 54,
   "metadata": {},
   "outputs": [
    {
     "name": "stdout",
     "output_type": "stream",
     "text": [
      "34.57 * 21.57 = 745.4758\n",
      "34.56789 * 21.56555567 = 745.4757561894362\n"
     ]
    }
   ],
   "source": [
    "## input() 만 쓰면 뭘할지 모르기 때문에 내용을 옵셥으로 작성\n",
    "# 34.56789 * 21.56555567 = 745.4757561894362\n",
    "x = float(input('첫번재 실수 입력(예 3.14) > '))\n",
    "y = float(input('두번재 실수 입력(예 3.14) > '))\n",
    "print(f'{x:.2f} * {y:.2f} = {x * y:.4f}')\n",
    "print(f'{x} * {y} = {x * y}')\n"
   ]
  },
  {
   "cell_type": "code",
   "execution_count": 55,
   "metadata": {},
   "outputs": [
    {
     "name": "stdout",
     "output_type": "stream",
     "text": [
      "34.57 * 21.57 = 745.4758\n"
     ]
    }
   ],
   "source": [
    "## 입력값이 두개 이상이면 map과 split을 활용할 것\n",
    "# 34.56789 21.56555567\n",
    "x, y = map(float, input('두 실수를 입력(구분자 스페이스) > ').split())\n",
    "print(f'{x:.2f} * {y:.2f} = {x * y:.4f}')"
   ]
  },
  {
   "cell_type": "markdown",
   "metadata": {},
   "source": [
    "### 3. 연산자\n",
    "- 사칙연산, 승수, 나머지의 경우 연산자 3개"
   ]
  },
  {
   "cell_type": "code",
   "execution_count": 59,
   "metadata": {},
   "outputs": [
    {
     "name": "stdout",
     "output_type": "stream",
     "text": [
      "8 2 15 1.6666666666666667 1 2 125\n"
     ]
    }
   ],
   "source": [
    "## 산술연산\n",
    "# a = 5; b = 3 # 여러줄의 로직을 한줄에 사용할 때는 세미콜론(;)으로 구분지을 수 있음\n",
    "a, b = 5, 3\n",
    "print(a + b, a - b, a * b, a / b, a // b, a % b, a ** b)"
   ]
  },
  {
   "cell_type": "code",
   "execution_count": 70,
   "metadata": {},
   "outputs": [
    {
     "name": "stdout",
     "output_type": "stream",
     "text": [
      "8\n",
      "5\n",
      "15\n",
      "5.0\n",
      "1\n",
      "2\n",
      "1024\n"
     ]
    }
   ],
   "source": [
    "## 대입연산\n",
    "a = 5\n",
    "a += 3\n",
    "print(a) # 8\n",
    "a -= 3\n",
    "print(a) # 5\n",
    "a *= 3\n",
    "print(a) # 15\n",
    "a /= 3\n",
    "print(a) # 5.0\n",
    "a = int(a) # 5.0 -> 5\n",
    "a //= 3\n",
    "print(a) # 1\n",
    "a = 5\n",
    "a %= 3\n",
    "print(a) # 2\n",
    "a **= 10\n",
    "print(a) # 1024"
   ]
  },
  {
   "cell_type": "code",
   "execution_count": 77,
   "metadata": {},
   "outputs": [
    {
     "name": "stdout",
     "output_type": "stream",
     "text": [
      "True False False True True False\n",
      "True\n",
      "True\n"
     ]
    }
   ],
   "source": [
    "## 관계연산자\n",
    "a, b, c, d = 3, 5, 9, 5\n",
    "print(b == d, b != d, a > b, d < c, b >= d, c <= a)\n",
    "print(a < b and c > d) # 양쪽 모두 참이면 참, 한쪽이 거짓이면 거짓\n",
    "print(a < b or c > d) # 한쪽이 참이면 참, 양쪽 모두 거짓이어야 거짓"
   ]
  },
  {
   "cell_type": "markdown",
   "metadata": {},
   "source": [
    "### 4. 형변환(Type casting)"
   ]
  },
  {
   "cell_type": "code",
   "execution_count": 84,
   "metadata": {},
   "outputs": [
    {
     "data": {
      "text/plain": [
       "'10'"
      ]
     },
     "execution_count": 84,
     "metadata": {},
     "output_type": "execute_result"
    }
   ],
   "source": [
    "str(10) # 정수 10을 문자열로 변환 10 -> '10'"
   ]
  },
  {
   "cell_type": "code",
   "execution_count": 86,
   "metadata": {},
   "outputs": [
    {
     "data": {
      "text/plain": [
       "'3.141592'"
      ]
     },
     "execution_count": 86,
     "metadata": {},
     "output_type": "execute_result"
    }
   ],
   "source": [
    "str(3.141592) # 실수 3.141592를 문자열로 변환 3.141592 -> '3.141592'"
   ]
  },
  {
   "cell_type": "code",
   "execution_count": 93,
   "metadata": {},
   "outputs": [
    {
     "data": {
      "text/plain": [
       "10"
      ]
     },
     "execution_count": 93,
     "metadata": {},
     "output_type": "execute_result"
    }
   ],
   "source": [
    "int('10') # 문자열을 정수로 변환 / 문자열로 들어있지만 계산을 하려면 정수로 변환해야 함"
   ]
  },
  {
   "cell_type": "code",
   "execution_count": null,
   "metadata": {},
   "outputs": [],
   "source": [
    "int('3.14') # 실수 문자열을 정수로 변환 x"
   ]
  },
  {
   "cell_type": "code",
   "execution_count": 98,
   "metadata": {},
   "outputs": [
    {
     "data": {
      "text/plain": [
       "3"
      ]
     },
     "execution_count": 98,
     "metadata": {},
     "output_type": "execute_result"
    }
   ],
   "source": [
    "int(3.14) # 실수형을 정수형으로 변환 가능"
   ]
  },
  {
   "cell_type": "code",
   "execution_count": 94,
   "metadata": {},
   "outputs": [
    {
     "data": {
      "text/plain": [
       "3.14"
      ]
     },
     "execution_count": 94,
     "metadata": {},
     "output_type": "execute_result"
    }
   ],
   "source": [
    "float('3.14') # 실수값 문자열을 float으로 변환"
   ]
  },
  {
   "cell_type": "code",
   "execution_count": 102,
   "metadata": {},
   "outputs": [
    {
     "data": {
      "text/plain": [
       "3.0"
      ]
     },
     "execution_count": 102,
     "metadata": {},
     "output_type": "execute_result"
    }
   ],
   "source": [
    "float('3')"
   ]
  },
  {
   "cell_type": "code",
   "execution_count": 103,
   "metadata": {},
   "outputs": [
    {
     "data": {
      "text/plain": [
       "3.0"
      ]
     },
     "execution_count": 103,
     "metadata": {},
     "output_type": "execute_result"
    }
   ],
   "source": [
    "float(3)"
   ]
  },
  {
   "cell_type": "code",
   "execution_count": 97,
   "metadata": {},
   "outputs": [
    {
     "data": {
      "text/plain": [
       "True"
      ]
     },
     "execution_count": 97,
     "metadata": {},
     "output_type": "execute_result"
    }
   ],
   "source": [
    "bool(1) # 1이상은 True, 0만 False / 하지만 0 과 1만 사용할 것"
   ]
  },
  {
   "cell_type": "markdown",
   "metadata": {},
   "source": [
    "### 5. 흐름제어\n",
    "- 조건문"
   ]
  },
  {
   "cell_type": "code",
   "execution_count": 105,
   "metadata": {},
   "outputs": [
    {
     "name": "stdout",
     "output_type": "stream",
     "text": [
      "이깁니다.\n"
     ]
    }
   ],
   "source": [
    "# 단순 if문\n",
    "army = 300\n",
    "\n",
    "if army < 300:\n",
    "    print('싸우면 집니다.')\n",
    "else:\n",
    "    print('이깁니다.')"
   ]
  },
  {
   "cell_type": "code",
   "execution_count": 107,
   "metadata": {},
   "outputs": [
    {
     "name": "stdout",
     "output_type": "stream",
     "text": [
      "간당간당합니다.\n"
     ]
    }
   ],
   "source": [
    "# elif\n",
    "if army < 300:\n",
    "    print('싸우면 집니다.') # block : if army < 300: 조건의 안으로 들어간다\n",
    "    print('도망갈래요')\n",
    "elif army == 300:\n",
    "    print('간당간당합니다.') # block\n",
    "    print('한번 싸워보죠')\n",
    "else:\n",
    "    print('이깁니다.') # block\n",
    "    print('가보자고')\n",
    "\n",
    "# 중첩if문을 여러번 쓰면 경우의 수가 기하급수적으로 증가(경우를 모두 처리해야함)"
   ]
  },
  {
   "cell_type": "code",
   "execution_count": 112,
   "metadata": {},
   "outputs": [
    {
     "name": "stdout",
     "output_type": "stream",
     "text": [
      "0 1 2 3 4 "
     ]
    }
   ],
   "source": [
    "## for문\n",
    "for i in range(5):\n",
    "    print(i, end=' ')"
   ]
  },
  {
   "cell_type": "code",
   "execution_count": 113,
   "metadata": {},
   "outputs": [
    {
     "name": "stdout",
     "output_type": "stream",
     "text": [
      "1 2 3 4 5 "
     ]
    }
   ],
   "source": [
    "for i in range(1, 5+1):\n",
    "    print(i, end=' ')"
   ]
  },
  {
   "cell_type": "code",
   "execution_count": 115,
   "metadata": {},
   "outputs": [
    {
     "name": "stdout",
     "output_type": "stream",
     "text": [
      "1 3 5 7 9 "
     ]
    }
   ],
   "source": [
    "for i in range(1, 10+1, 2):\n",
    "    print(i, end=' ')"
   ]
  },
  {
   "cell_type": "code",
   "execution_count": 120,
   "metadata": {},
   "outputs": [
    {
     "name": "stdout",
     "output_type": "stream",
     "text": [
      "1 3 5 7 9 "
     ]
    }
   ],
   "source": [
    "for i in [1,3,5,7,9]:\n",
    "    print(i, end=' ')"
   ]
  },
  {
   "cell_type": "code",
   "execution_count": 117,
   "metadata": {},
   "outputs": [
    {
     "name": "stdout",
     "output_type": "stream",
     "text": [
      "0 1 2 3 4 5 6 7 8 9 "
     ]
    }
   ],
   "source": [
    "for i in [0,1,2,3,4,5,6,7,8,9]:\n",
    "    print(i, end=' ')"
   ]
  },
  {
   "cell_type": "code",
   "execution_count": 119,
   "metadata": {},
   "outputs": [
    {
     "name": "stdout",
     "output_type": "stream",
     "text": [
      "0 1 2 3 4 5 6 7 8 9 "
     ]
    }
   ],
   "source": [
    "myList = [0,1,2,3,4,5,6,7,8,9]\n",
    "for i in myList:\n",
    "    print(i, end=' ')"
   ]
  },
  {
   "cell_type": "markdown",
   "metadata": {},
   "source": [
    "- while"
   ]
  },
  {
   "cell_type": "code",
   "execution_count": 1,
   "metadata": {},
   "outputs": [
    {
     "name": "stdout",
     "output_type": "stream",
     "text": [
      "ㅎ"
     ]
    }
   ],
   "source": [
    "while True: # 무한루프\n",
    "    print('ㅎ', end='')\n",
    "    break"
   ]
  },
  {
   "cell_type": "markdown",
   "metadata": {},
   "source": [
    "- continue : 반복문에서 조건이 맞으면 로직을 실행하지 않고 다음 반복으로 계속(continue) 반복\n",
    "- break : 반복문에서 조건이 맞으면 반복문 블록을 빠져나가는 것"
   ]
  },
  {
   "cell_type": "code",
   "execution_count": 122,
   "metadata": {},
   "outputs": [
    {
     "name": "stdout",
     "output_type": "stream",
     "text": [
      "for문 1번 실행\n",
      "for문 2번 실행\n",
      "for문 3번 실행\n",
      "for문 4번 실행\n",
      "for문 5번 실행\n",
      "for문 6번 실행\n",
      "for문 7번 실행\n",
      "for문 8번 실행\n",
      "for문 9번 실행\n",
      "for문 10번 실행\n"
     ]
    }
   ],
   "source": [
    "for i in range(1, 100+1):\n",
    "    print(f'for문 {i}번 실행')\n",
    "    if i == 10: break"
   ]
  },
  {
   "cell_type": "code",
   "execution_count": 6,
   "metadata": {},
   "outputs": [
    {
     "name": "stdout",
     "output_type": "stream",
     "text": [
      "for문 1번 실행\n",
      "for문 2번 실행\n",
      "for문 4번 실행\n",
      "for문 8번 실행\n",
      "for문 11번 실행\n",
      "for문 13번 실행\n",
      "for문 16번 실행\n",
      "for문 17번 실행\n",
      "for문 19번 실행\n",
      "for문 22번 실행\n",
      "for문 23번 실행\n",
      "for문 26번 실행\n",
      "for문 29번 실행\n",
      "for문 31번 실행\n",
      "for문 32번 실행\n",
      "for문 34번 실행\n",
      "for문 37번 실행\n",
      "for문 38번 실행\n",
      "for문 41번 실행\n",
      "for문 43번 실행\n",
      "for문 44번 실행\n",
      "for문 46번 실행\n",
      "for문 47번 실행\n",
      "for문 52번 실행\n",
      "for문 53번 실행\n",
      "for문 58번 실행\n",
      "for문 59번 실행\n",
      "for문 61번 실행\n",
      "for문 62번 실행\n",
      "for문 64번 실행\n",
      "for문 67번 실행\n",
      "for문 68번 실행\n",
      "for문 71번 실행\n",
      "for문 73번 실행\n",
      "for문 74번 실행\n",
      "for문 76번 실행\n",
      "for문 79번 실행\n",
      "for문 82번 실행\n",
      "for문 83번 실행\n",
      "for문 86번 실행\n",
      "for문 88번 실행\n",
      "for문 89번 실행\n",
      "for문 92번 실행\n",
      "for문 94번 실행\n",
      "for문 97번 실행\n",
      "45\n"
     ]
    }
   ],
   "source": [
    "count = 0\n",
    "for i in range(1, 100+1):\n",
    "    if (i % 3 == 0) or (i % 5 == 0) or (i % 7 == 0) or (i % 9 == 0): continue\n",
    "    print(f'for문 {i}번 실행')\n",
    "    count += 1\n",
    "print(count) # O(logN)"
   ]
  },
  {
   "cell_type": "markdown",
   "metadata": {},
   "source": [
    "### 6. 함수\n",
    "- 매개변수를 받아서 동일한 로직을 처리하는 영역"
   ]
  },
  {
   "cell_type": "code",
   "execution_count": 7,
   "metadata": {},
   "outputs": [],
   "source": [
    "def plus(v1, v2):\n",
    "    result = v1 + v2\n",
    "    return result"
   ]
  },
  {
   "cell_type": "code",
   "execution_count": 9,
   "metadata": {},
   "outputs": [
    {
     "name": "stdout",
     "output_type": "stream",
     "text": [
      "200과 100의 합은 300\n"
     ]
    }
   ],
   "source": [
    "hap = 0\n",
    "\n",
    "hap = plus(200, 100) # return값으로 변환\n",
    "print(f'200과 100의 합은 {hap}')"
   ]
  },
  {
   "cell_type": "markdown",
   "metadata": {},
   "source": [
    "#### 6-1. 지역변수/전역변수\n",
    "Local variable / Golbal variable"
   ]
  },
  {
   "cell_type": "code",
   "execution_count": 13,
   "metadata": {},
   "outputs": [
    {
     "name": "stdout",
     "output_type": "stream",
     "text": [
      "500\n",
      "5.0\n",
      "90\n"
     ]
    },
    {
     "ename": "NameError",
     "evalue": "name 'lcl_val' is not defined",
     "output_type": "error",
     "traceback": [
      "\u001b[1;31m---------------------------------------------------------------------------\u001b[0m",
      "\u001b[1;31mNameError\u001b[0m                                 Traceback (most recent call last)",
      "Cell \u001b[1;32mIn[13], line 13\u001b[0m\n\u001b[0;32m     10\u001b[0m     \u001b[38;5;28mprint\u001b[39m(lcl_val \u001b[38;5;241m/\u001b[39m \u001b[38;5;241m3\u001b[39m) \u001b[38;5;66;03m# 3.333 예상 -> name 'lcl_val' is not defined\u001b[39;00m\n\u001b[0;32m     12\u001b[0m func1()\n\u001b[1;32m---> 13\u001b[0m \u001b[43mfunc2\u001b[49m\u001b[43m(\u001b[49m\u001b[43m)\u001b[49m\n",
      "Cell \u001b[1;32mIn[13], line 10\u001b[0m, in \u001b[0;36mfunc2\u001b[1;34m()\u001b[0m\n\u001b[0;32m      8\u001b[0m \u001b[38;5;28;01mdef\u001b[39;00m \u001b[38;5;21mfunc2\u001b[39m():\n\u001b[0;32m      9\u001b[0m     \u001b[38;5;28mprint\u001b[39m(gbl_val \u001b[38;5;241m-\u001b[39m \u001b[38;5;241m10\u001b[39m)\n\u001b[1;32m---> 10\u001b[0m     \u001b[38;5;28mprint\u001b[39m(\u001b[43mlcl_val\u001b[49m \u001b[38;5;241m/\u001b[39m \u001b[38;5;241m3\u001b[39m)\n",
      "\u001b[1;31mNameError\u001b[0m: name 'lcl_val' is not defined"
     ]
    }
   ],
   "source": [
    "gbl_val = 100 # 전역변수\n",
    "\n",
    "def func1():\n",
    "    lcl_val = 10 # 지역변수 : 해당 함수 안에서만 사용가능 / 다른 함수안에 같은 이름이 있어도 그건 서로 다른 변수\n",
    "    print(gbl_val * 5)\n",
    "    print(lcl_val / 2)\n",
    "\n",
    "def func2():\n",
    "    print(gbl_val - 10)\n",
    "    print(lcl_val / 3) # 3.333 예상 -> name 'lcl_val' is not defined\n",
    "\n",
    "func1()\n",
    "func2()"
   ]
  },
  {
   "cell_type": "code",
   "execution_count": 17,
   "metadata": {},
   "outputs": [
    {
     "name": "stdout",
     "output_type": "stream",
     "text": [
      "30\n",
      "30\n"
     ]
    }
   ],
   "source": [
    "aa = 10 # global\n",
    "\n",
    "def func3():\n",
    "    # aa = 20 # local\n",
    "    global aa\n",
    "    aa = 30\n",
    "    print(aa)\n",
    "\n",
    "def func4():\n",
    "    print(aa)\n",
    "\n",
    "func3()\n",
    "func4()\n",
    "\n",
    "## local일 경우 : 20, 10\n",
    "## global로 선언하면 : 30, 30"
   ]
  }
 ],
 "metadata": {
  "kernelspec": {
   "display_name": "Python 3",
   "language": "python",
   "name": "python3"
  },
  "language_info": {
   "codemirror_mode": {
    "name": "ipython",
    "version": 3
   },
   "file_extension": ".py",
   "mimetype": "text/x-python",
   "name": "python",
   "nbconvert_exporter": "python",
   "pygments_lexer": "ipython3",
   "version": "3.11.5"
  }
 },
 "nbformat": 4,
 "nbformat_minor": 2
}
