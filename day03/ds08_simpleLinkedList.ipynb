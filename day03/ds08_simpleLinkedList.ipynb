{
 "cells": [
  {
   "cell_type": "code",
   "execution_count": 59,
   "metadata": {},
   "outputs": [],
   "source": [
    "# date : 20240214\n",
    "# file : ds08_simpleLinkedList.ipynb\n",
    "# desc : 연결 리스트 재학습"
   ]
  },
  {
   "cell_type": "markdown",
   "metadata": {},
   "source": [
    "### 자료구조 / 알고리즘\n",
    "\n",
    "- 연결 리스트 중 단순 연결 리스트 재학습\n",
    "\n",
    "### 단순 연결 리스트\n",
    "\n",
    "1. Node 클래스 생성\n",
    "    - 클래스의 구조\n",
    "\n",
    "        |data|node|\n",
    "        |---|---|\n"
   ]
  },
  {
   "cell_type": "code",
   "execution_count": 60,
   "metadata": {},
   "outputs": [],
   "source": [
    "# 노드 클래스\n",
    "class Node() :\n",
    "    data = None # 실제 데이터 변수\n",
    "    link = None # 다음 노드를 지정하는 변수\n",
    "\n",
    "    def __init__(self) -> None:\n",
    "        self.data = None # 클래스 자신이 self 이므로 클래스의 변수에 접근 하려면 반드시 self. 사용\n",
    "        self.link = None"
   ]
  },
  {
   "cell_type": "markdown",
   "metadata": {},
   "source": [
    "2. 변수 선언"
   ]
  },
  {
   "cell_type": "code",
   "execution_count": 61,
   "metadata": {},
   "outputs": [],
   "source": [
    "memory = []\n",
    "head = None # 연결 리스트의 제일 첫 노드를 알려주는 변수, Node 객체가 할당\n",
    "prev = None # 현재 처리중인 노드 바로 앞 노드를 지정하는 변수\n",
    "curr = None # 현재 처리중인 노드를 지정하는 변수"
   ]
  },
  {
   "cell_type": "code",
   "execution_count": 62,
   "metadata": {},
   "outputs": [],
   "source": [
    "# 연결 데이터 순서  : 다현, 정연, 쯔위, 사나, 지효 ...\n",
    "# 추가 데이터 : 화사, 솔라, 문별, 재남\n",
    "# 삭제 제이터 : 다현, 쯔위"
   ]
  },
  {
   "cell_type": "code",
   "execution_count": 63,
   "metadata": {},
   "outputs": [],
   "source": [
    "node = Node() # Node 객체 생성\n",
    "node.data = '다현'\n",
    "head = node # 변수 node를 변수 head에 할당, head는 첫번째 노드 다현을 가리킨다."
   ]
  },
  {
   "cell_type": "code",
   "execution_count": 64,
   "metadata": {},
   "outputs": [],
   "source": [
    "prev = node # 현재 node 객체를 prev 변수 지정. prev가 현재 node 객체를 가리킨다.\n",
    "node = Node() # 다현을 들고 있는 node는 이미 head, prev에다 지정했기 때문, 다시 정연을 담을 새 node로 생성\n",
    "node.data='정연'\n",
    "prev.link = node # 다현을 들고 있는 prev(==node 객체와 동일)에 다음 node가 정연인 것을 지정(알려줌)"
   ]
  },
  {
   "cell_type": "code",
   "execution_count": 65,
   "metadata": {},
   "outputs": [],
   "source": [
    "prev = node # 현재 node 객체를 prev 변수 지정. prev가 현재 node 객체를 가리킨다.\n",
    "node = Node()\n",
    "node.data='쯔위' # 정연을 들고 있는 node는 이미 head, prev에다 지정했기 때문, 다시 쯔위을 담을 새 node로 생성\n",
    "prev.link = node"
   ]
  },
  {
   "cell_type": "markdown",
   "metadata": {},
   "source": [
    "3. 연결 리스트 출력할 함수"
   ]
  },
  {
   "cell_type": "code",
   "execution_count": 66,
   "metadata": {},
   "outputs": [],
   "source": [
    "def printNodes(start) : # start부터 시작해서 끝까지 노드 .data 출력\n",
    "    curr = start\n",
    "    if curr == None : return\n",
    "    while True :\n",
    "        if curr.link == None : # 연결할 노드가 더이상 없으며\n",
    "            print(curr.data) # 자기 데이터만 출력하고\n",
    "            break # 반복문 탈출\n",
    "        else : \n",
    "            print(curr.data, end=' > ') # 연결할 노드가 있으니까 연결 표시를 해주고\n",
    "            curr = curr.link # 자기 뒤의 데이터를 curr로 바꿔줌\n",
    "    print()"
   ]
  },
  {
   "cell_type": "code",
   "execution_count": 67,
   "metadata": {},
   "outputs": [
    {
     "name": "stdout",
     "output_type": "stream",
     "text": [
      "다현 > 정연 > 쯔위\n",
      "\n"
     ]
    }
   ],
   "source": [
    "printNodes(head)"
   ]
  },
  {
   "cell_type": "markdown",
   "metadata": {},
   "source": [
    "4. 연결 리스트 맨 앞에 노드 삽입"
   ]
  },
  {
   "cell_type": "code",
   "execution_count": 68,
   "metadata": {},
   "outputs": [
    {
     "name": "stdout",
     "output_type": "stream",
     "text": [
      "다현 > 정연 > 쯔위\n",
      "\n"
     ]
    }
   ],
   "source": [
    "printNodes(head)"
   ]
  },
  {
   "cell_type": "code",
   "execution_count": 69,
   "metadata": {},
   "outputs": [],
   "source": [
    "prev = node\n",
    "node = Node()\n",
    "node.data='사나'\n",
    "prev.link = node "
   ]
  },
  {
   "cell_type": "code",
   "execution_count": 70,
   "metadata": {},
   "outputs": [],
   "source": [
    "prev = node\n",
    "node = Node()\n",
    "node.data='지효'\n",
    "prev.link = node "
   ]
  },
  {
   "cell_type": "code",
   "execution_count": 71,
   "metadata": {},
   "outputs": [
    {
     "name": "stdout",
     "output_type": "stream",
     "text": [
      "다현 > 정연 > 쯔위 > 사나 > 지효\n",
      "\n"
     ]
    }
   ],
   "source": [
    "printNodes(head)"
   ]
  },
  {
   "cell_type": "code",
   "execution_count": 72,
   "metadata": {},
   "outputs": [],
   "source": [
    "node = Node()\n",
    "node.data = '화사'\n",
    "node.link = head # 현재 다현을 가리킴\n",
    "head = node # head가 변경"
   ]
  },
  {
   "cell_type": "code",
   "execution_count": 73,
   "metadata": {},
   "outputs": [
    {
     "name": "stdout",
     "output_type": "stream",
     "text": [
      "화사 > 다현 > 정연 > 쯔위 > 사나 > 지효\n",
      "\n"
     ]
    }
   ],
   "source": [
    "printNodes(head)"
   ]
  },
  {
   "cell_type": "markdown",
   "metadata": {},
   "source": [
    "5. 연결 리스트 중간에 새 노드 삽입"
   ]
  },
  {
   "cell_type": "code",
   "execution_count": 74,
   "metadata": {},
   "outputs": [],
   "source": [
    "curr = head # curr가 제일 처음으로 이동\n",
    "\n",
    "while curr.link != None :\n",
    "    prev = curr # prev와 curr 가 같은 노드를 가리킴\n",
    "    curr = curr.link # curr가 가리키는 다음 값을 curr로 지정\n",
    "\n",
    "    if curr.data == '사나' :\n",
    "        node = Node()\n",
    "        node.data = '솔라'\n",
    "        node.link = curr # 사나의 node 앞에 솔라의 node를 연결\n",
    "        prev.link = node # 솔라의 node가 prev.link에 연결"
   ]
  },
  {
   "cell_type": "code",
   "execution_count": 75,
   "metadata": {},
   "outputs": [
    {
     "name": "stdout",
     "output_type": "stream",
     "text": [
      "화사 > 다현 > 정연 > 쯔위 > 솔라 > 사나 > 지효\n",
      "\n"
     ]
    }
   ],
   "source": [
    "printNodes(head)"
   ]
  },
  {
   "cell_type": "markdown",
   "metadata": {},
   "source": [
    "6. 연결 리스트 마지막에 새 노드 삽입"
   ]
  },
  {
   "cell_type": "code",
   "execution_count": 76,
   "metadata": {},
   "outputs": [],
   "source": [
    "node = Node()\n",
    "node.data = '문별'\n",
    "curr.link = node"
   ]
  },
  {
   "cell_type": "code",
   "execution_count": 77,
   "metadata": {},
   "outputs": [
    {
     "name": "stdout",
     "output_type": "stream",
     "text": [
      "화사 > 다현 > 정연 > 쯔위 > 솔라 > 사나 > 지효 > 문별\n",
      "\n"
     ]
    }
   ],
   "source": [
    "printNodes(head)"
   ]
  },
  {
   "cell_type": "markdown",
   "metadata": {},
   "source": [
    "#### 정리\n",
    "\n",
    "- 맨 앞 중간에 삽입한 것 : 파이썬 list.insert(index, data)와 동일\n",
    "- 맨 뒤에 삽입한 것 : list.appedn(data)와 동일"
   ]
  },
  {
   "cell_type": "markdown",
   "metadata": {},
   "source": [
    "7. 첫번째 노드 삭제"
   ]
  },
  {
   "cell_type": "code",
   "execution_count": 78,
   "metadata": {},
   "outputs": [],
   "source": [
    "curr = head\n",
    "head = head.link"
   ]
  },
  {
   "cell_type": "code",
   "execution_count": 79,
   "metadata": {},
   "outputs": [],
   "source": [
    "del(curr)"
   ]
  },
  {
   "cell_type": "code",
   "execution_count": 80,
   "metadata": {},
   "outputs": [
    {
     "name": "stdout",
     "output_type": "stream",
     "text": [
      "다현 > 정연 > 쯔위 > 솔라 > 사나 > 지효 > 문별\n",
      "\n"
     ]
    }
   ],
   "source": [
    "printNodes(head)"
   ]
  },
  {
   "cell_type": "markdown",
   "metadata": {},
   "source": [
    "8. 첫번째 외 노드 삭제"
   ]
  },
  {
   "cell_type": "code",
   "execution_count": 88,
   "metadata": {},
   "outputs": [],
   "source": [
    "curr = head\n",
    "\n",
    "while curr.link != None :\n",
    "    prev = curr\n",
    "    curr = curr.link\n",
    "    \n",
    "    if curr.data == '문별' : # 쯔위 노드 삭제\n",
    "        prev.link = curr.link\n",
    "        # curr.link = None # 이 부분은 굳이 필요 없음\n",
    "        del(curr)"
   ]
  },
  {
   "cell_type": "code",
   "execution_count": 89,
   "metadata": {},
   "outputs": [
    {
     "name": "stdout",
     "output_type": "stream",
     "text": [
      "다현 > 정연 > 솔라 > 사나 > 지효\n",
      "\n"
     ]
    }
   ],
   "source": [
    "printNodes(head)"
   ]
  },
  {
   "cell_type": "markdown",
   "metadata": {},
   "source": [
    "9. 노드 검색"
   ]
  },
  {
   "cell_type": "code",
   "execution_count": 90,
   "metadata": {},
   "outputs": [],
   "source": [
    "find = '나나'\n",
    "\n",
    "curr = head # curr 사용되는 변수라서 이 작업이 반드시 필요\n",
    "if curr.data == find :\n",
    "    print(curr.data)\n",
    "\n",
    "while curr.link != None :\n",
    "    curr = curr.link # 다음 노드로 넘김\n",
    "    if curr.data == find :\n",
    "        print(curr.data)"
   ]
  },
  {
   "cell_type": "markdown",
   "metadata": {},
   "source": [
    "#### 정리\n",
    "- 노드 검색은 파이썬 리스트, list.index(), list.count() 유사"
   ]
  }
 ],
 "metadata": {
  "kernelspec": {
   "display_name": "Python 3",
   "language": "python",
   "name": "python3"
  },
  "language_info": {
   "codemirror_mode": {
    "name": "ipython",
    "version": 3
   },
   "file_extension": ".py",
   "mimetype": "text/x-python",
   "name": "python",
   "nbconvert_exporter": "python",
   "pygments_lexer": "ipython3",
   "version": "3.11.5"
  }
 },
 "nbformat": 4,
 "nbformat_minor": 2
}
