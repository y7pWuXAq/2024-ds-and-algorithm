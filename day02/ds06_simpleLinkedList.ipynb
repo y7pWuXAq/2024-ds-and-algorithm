{
 "cells": [
  {
   "cell_type": "code",
   "execution_count": null,
   "metadata": {},
   "outputs": [],
   "source": [
    "# date : 20240213\n",
    "# file : ds06_simpleLinkedList.ipynb\n",
    "# desc : 단순 연결 리스트 학습"
   ]
  },
  {
   "cell_type": "code",
   "execution_count": 3,
   "metadata": {},
   "outputs": [],
   "source": [
    "# 연결 리스트 노트 클래스\n",
    "\n",
    "class Node() :\n",
    "    # datam link 두개의 멤버 변수 존재\n",
    "    # 생성자 추가\n",
    "    def __init__(self, name) -> None:\n",
    "        self.data = name\n",
    "        self.link = None"
   ]
  },
  {
   "cell_type": "code",
   "execution_count": 4,
   "metadata": {},
   "outputs": [
    {
     "name": "stdout",
     "output_type": "stream",
     "text": [
      "미나 None\n"
     ]
    }
   ],
   "source": [
    "node1 = Node('미나')\n",
    "print(node1.data, end=' ')\n",
    "print(node1.link)"
   ]
  },
  {
   "cell_type": "code",
   "execution_count": 5,
   "metadata": {},
   "outputs": [
    {
     "name": "stdout",
     "output_type": "stream",
     "text": [
      "None\n"
     ]
    }
   ],
   "source": [
    "print(node1.link)"
   ]
  },
  {
   "cell_type": "code",
   "execution_count": 6,
   "metadata": {},
   "outputs": [
    {
     "name": "stdout",
     "output_type": "stream",
     "text": [
      "사나 None\n"
     ]
    }
   ],
   "source": [
    "node2 = Node('사나')\n",
    "node1.link = node2\n",
    "print(node2.data, end=' ')\n",
    "print(node2.link)"
   ]
  },
  {
   "cell_type": "code",
   "execution_count": 7,
   "metadata": {},
   "outputs": [],
   "source": [
    "## 5개 노드 연결 리스트\n",
    "node1 = Node('미나')\n",
    "node2 = Node('사나')\n",
    "\n",
    "node1.link = node2\n",
    "\n",
    "node3 = Node('모모')\n",
    "node2.link = node3\n",
    "\n",
    "node4 = Node('채연')\n",
    "node3.link = node4\n",
    "\n",
    "node5 = Node('나연')\n",
    "node4.link = node5"
   ]
  },
  {
   "cell_type": "code",
   "execution_count": 8,
   "metadata": {},
   "outputs": [
    {
     "name": "stdout",
     "output_type": "stream",
     "text": [
      "미나 > 사나 > 모모 > 채연 > 나연 : "
     ]
    }
   ],
   "source": [
    "print(node1.data, end=' > ') #node1\n",
    "print(node1.link.data, end=' > ') #node2\n",
    "print(node1.link.link.data, end=' > ') #node3\n",
    "print(node1.link.link.link.data, end=' > ') #node4\n",
    "print(node1.link.link.link.link.data, end=' : ') #node5"
   ]
  },
  {
   "cell_type": "code",
   "execution_count": 9,
   "metadata": {},
   "outputs": [
    {
     "data": {
      "text/plain": [
       "['미나', '사나', '모모', '채연', '나연', '정연']"
      ]
     },
     "execution_count": 9,
     "metadata": {},
     "output_type": "execute_result"
    }
   ],
   "source": [
    "# 파이썬의 리스트가 위와 동일한 구조로 만들어져 있음\n",
    "friends = []\n",
    "friends.append('미나')\n",
    "friends.append('사나')\n",
    "friends.append('모모')\n",
    "friends.append('채연')\n",
    "friends.append('나연')\n",
    "friends.append('정연')\n",
    "friends"
   ]
  },
  {
   "cell_type": "code",
   "execution_count": 10,
   "metadata": {},
   "outputs": [
    {
     "name": "stdout",
     "output_type": "stream",
     "text": [
      "미나 > 사나 > 모모 > 채연 > 나연 > "
     ]
    }
   ],
   "source": [
    "## 연결 리스트 출력 방법\n",
    "\n",
    "current = node1\n",
    "print(current.data, end=' > ')\n",
    "while current.link != None :\n",
    "    current = current.link # 내 노드의 다음 노드가 current가 됨\n",
    "    print(current.data, end=' > ')"
   ]
  },
  {
   "cell_type": "code",
   "execution_count": 11,
   "metadata": {},
   "outputs": [],
   "source": [
    "## 새 노드 삽입\n",
    "\n",
    "newNode = Node('솔라')\n",
    "newNode.link = node2.link\n",
    "node2.link = newNode"
   ]
  },
  {
   "cell_type": "code",
   "execution_count": 12,
   "metadata": {},
   "outputs": [
    {
     "name": "stdout",
     "output_type": "stream",
     "text": [
      "미나 > 사나 > 솔라 > 모모 > 채연 > 나연 > "
     ]
    }
   ],
   "source": [
    "current = node1\n",
    "print(current.data, end=' > ')\n",
    "while current.link != None :\n",
    "    current = current.link # 내 노드의 다음 노드가 current가 됨\n",
    "    print(current.data, end=' > ')"
   ]
  },
  {
   "cell_type": "code",
   "execution_count": 17,
   "metadata": {},
   "outputs": [],
   "source": [
    "## 기존 노드 삭제(모모)\n",
    "\n",
    "newNode.link = node3.link"
   ]
  },
  {
   "cell_type": "code",
   "execution_count": 18,
   "metadata": {},
   "outputs": [
    {
     "name": "stdout",
     "output_type": "stream",
     "text": [
      "미나 > 사나 > 솔라 > 채연 > 나연 > "
     ]
    }
   ],
   "source": [
    "current = node1\n",
    "print(current.data, end=' > ')\n",
    "while current.link != None :\n",
    "    current = current.link # 내 노드의 다음 노드가 current가 됨\n",
    "    print(current.data, end=' > ')"
   ]
  },
  {
   "cell_type": "markdown",
   "metadata": {},
   "source": [
    "#### 선형 리스트와 연결 리스트 비교\n",
    "- 선형 리스트는 메모리 저장 장소의 최적화는 있지만, 삽입이나 삭제 시 처리시간에 대한 오버헤드는 존재함. (꽤 많이)\n",
    "- 연결 리스트는 메모리 공간 오버헤드는 존재(current, node.link 등)하지만, 삽입이나 삭제 처리 시간은 최적화\n",
    "- 그래서 현대의 IT에서는 선형 리스트를 거의 사용하지 않음"
   ]
  }
 ],
 "metadata": {
  "kernelspec": {
   "display_name": "Python 3",
   "language": "python",
   "name": "python3"
  },
  "language_info": {
   "codemirror_mode": {
    "name": "ipython",
    "version": 3
   },
   "file_extension": ".py",
   "mimetype": "text/x-python",
   "name": "python",
   "nbconvert_exporter": "python",
   "pygments_lexer": "ipython3",
   "version": "3.11.5"
  }
 },
 "nbformat": 4,
 "nbformat_minor": 2
}
