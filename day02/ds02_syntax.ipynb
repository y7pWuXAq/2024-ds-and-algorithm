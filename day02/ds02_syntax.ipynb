{
 "cells": [
  {
   "cell_type": "code",
   "execution_count": null,
   "metadata": {},
   "outputs": [],
   "source": [
    "# date : 20240213\n",
    "# file : ds02_syntax.ipynb\n",
    "# desc : 파이썬 기초 복습"
   ]
  },
  {
   "cell_type": "markdown",
   "metadata": {},
   "source": [
    "### 자료구조와 알고리즘\n",
    "\n",
    "- 파이썬 기초문법 복습\n",
    "\n",
    "#### 1. 리스트 컨프리헨션(함축)"
   ]
  },
  {
   "cell_type": "code",
   "execution_count": 1,
   "metadata": {},
   "outputs": [
    {
     "data": {
      "text/plain": [
       "[1, 2, 3, 4, 5]"
      ]
     },
     "execution_count": 1,
     "metadata": {},
     "output_type": "execute_result"
    }
   ],
   "source": [
    "# 반복문으로 만드는 방법\n",
    "nums = []\n",
    "for i in range(1, 6) : # 1부터 5까지\n",
    "    nums.append(i)\n",
    "\n",
    "nums"
   ]
  },
  {
   "cell_type": "code",
   "execution_count": 2,
   "metadata": {},
   "outputs": [
    {
     "data": {
      "text/plain": [
       "[1, 2, 3, 4, 5]"
      ]
     },
     "execution_count": 2,
     "metadata": {},
     "output_type": "execute_result"
    }
   ],
   "source": [
    "# 클래스로 만드는 방법\n",
    "nums = list(range(1, 6))\n",
    "nums"
   ]
  },
  {
   "cell_type": "code",
   "execution_count": 3,
   "metadata": {},
   "outputs": [
    {
     "data": {
      "text/plain": [
       "[1, 2, 3, 4, 5]"
      ]
     },
     "execution_count": 3,
     "metadata": {},
     "output_type": "execute_result"
    }
   ],
   "source": [
    "# 리스트 함축으로 만드는 방법\n",
    "nums = [i for i in range(1, 6)]\n",
    "nums"
   ]
  },
  {
   "cell_type": "code",
   "execution_count": 4,
   "metadata": {},
   "outputs": [
    {
     "data": {
      "text/plain": [
       "[1, 4, 9, 16, 25]"
      ]
     },
     "execution_count": 4,
     "metadata": {},
     "output_type": "execute_result"
    }
   ],
   "source": [
    "nums = [i * i for i in range(1, 6)]\n",
    "nums"
   ]
  },
  {
   "cell_type": "code",
   "execution_count": 5,
   "metadata": {},
   "outputs": [
    {
     "data": {
      "text/plain": [
       "[1, 4, 9, 16, 25]"
      ]
     },
     "execution_count": 5,
     "metadata": {},
     "output_type": "execute_result"
    }
   ],
   "source": [
    "nums = []\n",
    "for i in range(1, 6) :\n",
    "    nums.append(i * i)\n",
    "\n",
    "nums"
   ]
  },
  {
   "cell_type": "code",
   "execution_count": 7,
   "metadata": {},
   "outputs": [
    {
     "data": {
      "text/plain": [
       "[3, 6, 9, 12, 15, 18]"
      ]
     },
     "execution_count": 7,
     "metadata": {},
     "output_type": "execute_result"
    }
   ],
   "source": [
    "nums = []\n",
    "nums = [i for i in range(1, 21) if i % 3 == 0] # 3의 배수만 리스트로 만드는 함축\n",
    "nums"
   ]
  },
  {
   "cell_type": "code",
   "execution_count": 9,
   "metadata": {},
   "outputs": [
    {
     "data": {
      "text/plain": [
       "[[0, 1, 2, 3], [0, 1, 2, 3], [0, 1, 2, 3]]"
      ]
     },
     "execution_count": 9,
     "metadata": {},
     "output_type": "execute_result"
    }
   ],
   "source": [
    "# 2차원 리스트\n",
    "nums2 = [[i for i in range(4)] for j in range(3)] # [[열, 안쪽값] 행]\n",
    "nums2"
   ]
  },
  {
   "cell_type": "markdown",
   "metadata": {},
   "source": [
    "#### 세트"
   ]
  },
  {
   "cell_type": "code",
   "execution_count": 10,
   "metadata": {},
   "outputs": [
    {
     "data": {
      "text/plain": [
       "{1, 2, 3}"
      ]
     },
     "execution_count": 10,
     "metadata": {},
     "output_type": "execute_result"
    }
   ],
   "source": [
    "myset = {1, 2, 3, 3, 2, 1} # 집합일 경우 같은 수(값)는 중복 제거\n",
    "myset"
   ]
  },
  {
   "cell_type": "markdown",
   "metadata": {},
   "source": [
    "#### 로또번호 생성기"
   ]
  },
  {
   "cell_type": "code",
   "execution_count": 12,
   "metadata": {},
   "outputs": [],
   "source": [
    "import random"
   ]
  },
  {
   "cell_type": "code",
   "execution_count": 17,
   "metadata": {},
   "outputs": [],
   "source": [
    "# 전역변수 선언\n",
    "totalLotto = [] # 최종 로또번호 저장(2차원 리스트)\n",
    "lotto = [] # 한 회별 로또번호 저장(1차원 리스트)\n",
    "pickNum = 0\n",
    "count = 0"
   ]
  },
  {
   "cell_type": "code",
   "execution_count": 24,
   "metadata": {},
   "outputs": [
    {
     "name": "stdout",
     "output_type": "stream",
     "text": [
      "로또번호 생성 시작\n",
      "생성 완료\n"
     ]
    }
   ],
   "source": [
    "print('로또번호 생성 시작')\n",
    "totalLotto = [] # 로또 결과 리스트 초기화\n",
    "count = int(input('뽑을 횟수 입력 > '))\n",
    "\n",
    "for _ in range(count) : # _ (기존 i의 위치) 반복되는 숫자를 사용하지 않겠다는 뜻\n",
    "    lotto = []\n",
    "    while True :\n",
    "        pickNum = random.randint(1, 45) # 1부터 45 사이의 수를 저장\n",
    "        # 10번 ~ 13번줄 번호 중복선택 방지\n",
    "        if pickNum not in lotto : # 랜덤으로 선택한 수가 이미 있으면 패스\n",
    "            lotto.append(pickNum)\n",
    "        else :\n",
    "            continue # 컨티뉴 : 반복문이 여러개 있을 시 자신이 속한 반복문만 다시 반복\n",
    "\n",
    "        if len(lotto) >= 6 : # 6개 선택\n",
    "            break # 브레이크 : 반복문이 여러개 있을 시 자신이 속한 반복문만 다시 반복\n",
    "\n",
    "    totalLotto.append(lotto)\n",
    "\n",
    "print('생성 완료')"
   ]
  },
  {
   "cell_type": "code",
   "execution_count": 26,
   "metadata": {},
   "outputs": [
    {
     "name": "stdout",
     "output_type": "stream",
     "text": [
      "로또번호 >  10 11 21 28 39 44 \n",
      "로또번호 >  03 04 09 12 16 43 \n",
      "로또번호 >  05 19 25 40 41 45 \n"
     ]
    }
   ],
   "source": [
    "for item in totalLotto :\n",
    "    item.sort()\n",
    "    print('로또번호 > ', end=' ')\n",
    "    for i in item :\n",
    "        print(f'{i:02d}', end=' ')\n",
    "    \n",
    "    print()"
   ]
  }
 ],
 "metadata": {
  "kernelspec": {
   "display_name": "Python 3",
   "language": "python",
   "name": "python3"
  },
  "language_info": {
   "codemirror_mode": {
    "name": "ipython",
    "version": 3
   },
   "file_extension": ".py",
   "mimetype": "text/x-python",
   "name": "python",
   "nbconvert_exporter": "python",
   "pygments_lexer": "ipython3",
   "version": "3.11.5"
  }
 },
 "nbformat": 4,
 "nbformat_minor": 2
}
