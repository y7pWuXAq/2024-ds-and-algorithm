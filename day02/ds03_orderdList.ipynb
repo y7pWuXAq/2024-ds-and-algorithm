{
 "cells": [
  {
   "cell_type": "code",
   "execution_count": 53,
   "metadata": {},
   "outputs": [],
   "source": [
    "# date : 20240213\n",
    "# file : ds03_orderdList.ipynb\n",
    "# desc : 선형 리스트"
   ]
  },
  {
   "cell_type": "markdown",
   "metadata": {},
   "source": [
    "### 자료구조와 알고리즘\n",
    "\n",
    "- 선형 리스트\n",
    "\n",
    "#### 1. 선형 리스트 개념 및 내용\n",
    "- 파이썬의 리스트는 일반적인 프로그래밍의 배열과 다름\n",
    "- 파이썬의 성능 문제로 배열과 리스트 하나로 통합"
   ]
  },
  {
   "cell_type": "code",
   "execution_count": 54,
   "metadata": {},
   "outputs": [],
   "source": [
    "kakaotalk = [200, 150, 90, 30, 15]"
   ]
  },
  {
   "cell_type": "code",
   "execution_count": 55,
   "metadata": {},
   "outputs": [
    {
     "name": "stdout",
     "output_type": "stream",
     "text": [
      "140713895459848\n",
      "140713895458248\n",
      "140713895456328\n",
      "140713895454408\n",
      "140713895453928\n"
     ]
    }
   ],
   "source": [
    "# 메모리에 저장된 주소를 10진수로 표현\n",
    "print(id(kakaotalk[0])) \n",
    "print(id(kakaotalk[1]))\n",
    "print(id(kakaotalk[2]))\n",
    "print(id(kakaotalk[3]))\n",
    "print(id(kakaotalk[4]))"
   ]
  },
  {
   "cell_type": "markdown",
   "metadata": {},
   "source": [
    "#### 2. 선형 리스트 구현\n",
    "- 파이썬에서 실사용 시 복잡하게 할 필요는 없음\n",
    "- 배열(단순 선형 리스트)를 이해하기 위한 만든 예제"
   ]
  },
  {
   "cell_type": "code",
   "execution_count": 56,
   "metadata": {},
   "outputs": [],
   "source": [
    "kakaotalk = [] # 빈 배열 생성\n",
    "\n",
    "def add_data(friend) :\n",
    "    kakaotalk.append(None) # 배열에 빈자리 생성\n",
    "    size = len(kakaotalk) # 배열의 전체 크기 확인\n",
    "    kakaotalk[size-1] = friend"
   ]
  },
  {
   "cell_type": "code",
   "execution_count": 57,
   "metadata": {},
   "outputs": [],
   "source": [
    "add_data('미나')\n",
    "add_data('모모')\n",
    "add_data('사나')\n",
    "add_data('나연')\n",
    "add_data('채영')"
   ]
  },
  {
   "cell_type": "code",
   "execution_count": 58,
   "metadata": {},
   "outputs": [
    {
     "name": "stdout",
     "output_type": "stream",
     "text": [
      "['미나', '모모', '사나', '나연', '채영']\n"
     ]
    }
   ],
   "source": [
    "print(kakaotalk)"
   ]
  },
  {
   "cell_type": "code",
   "execution_count": 59,
   "metadata": {},
   "outputs": [],
   "source": [
    "# kakaotalk.insert(2, '솔라') 동일\n",
    "# 데이터 삽입 함수\n",
    "\n",
    "def insert_data(pos, friedn) :\n",
    "    if pos < 0 or pos > len(kakaotalk) :\n",
    "        print('데이터 삽입 범위 초과')\n",
    "        return # 함수를 빠져나감\n",
    "    \n",
    "    # 정상적인 처리시작\n",
    "    kakaotalk.append(None) # 빈칸 추가\n",
    "    size = len(kakaotalk) # 배열의 현재 크기\n",
    "    \n",
    "    # 데이터 삽입 위치까지 데이터를 하나씩 뒤로 보내는 작업\n",
    "    for i in range(size-1, pos, -1) : # 역순으로, 맨 뒤에서부터 하나씩\n",
    "        kakaotalk[i] = kakaotalk[i-1]\n",
    "        kakaotalk[i-1] = None\n",
    "\n",
    "    kakaotalk[pos] = friedn"
   ]
  },
  {
   "cell_type": "code",
   "execution_count": 60,
   "metadata": {},
   "outputs": [
    {
     "name": "stdout",
     "output_type": "stream",
     "text": [
      "['미나', '모모', '솔라', '사나', '나연', '채영']\n"
     ]
    }
   ],
   "source": [
    "# 데이터 삽입\n",
    "\n",
    "insert_data(2, '솔라')\n",
    "print(kakaotalk)"
   ]
  },
  {
   "cell_type": "code",
   "execution_count": 61,
   "metadata": {},
   "outputs": [
    {
     "name": "stdout",
     "output_type": "stream",
     "text": [
      "['미나', '모모', '솔라', '사나', '나연', '채영', '문별']\n"
     ]
    }
   ],
   "source": [
    "insert_data(6, '문별')\n",
    "print(kakaotalk)"
   ]
  },
  {
   "cell_type": "code",
   "execution_count": 62,
   "metadata": {},
   "outputs": [
    {
     "name": "stdout",
     "output_type": "stream",
     "text": [
      "6\n",
      "5\n",
      "4\n",
      "3\n",
      "2\n"
     ]
    }
   ],
   "source": [
    "for i in range(6, 1, -1) : # 두번째 쉼표의 수는 출력 x\n",
    "    print(i)"
   ]
  },
  {
   "cell_type": "code",
   "execution_count": 63,
   "metadata": {},
   "outputs": [
    {
     "name": "stdout",
     "output_type": "stream",
     "text": [
      "1\n",
      "2\n",
      "3\n",
      "4\n",
      "5\n"
     ]
    }
   ],
   "source": [
    "for i in range(1, 6, 1) : \n",
    "    print(i)"
   ]
  },
  {
   "cell_type": "code",
   "execution_count": 64,
   "metadata": {},
   "outputs": [],
   "source": [
    "## 데이터 삭제 함수\n",
    "def delete_data(pos) : # 데이터 삭제는 위치값만\n",
    "    if pos < 0 or pos >= len(kakaotalk) : # 마지막 끝범위를 크거나 같다로 설정하기\n",
    "        print('데이터 삭제범위 초과')\n",
    "        return\n",
    "    \n",
    "    size = len(kakaotalk)\n",
    "    kakaotalk[pos] = None # 데이터 삭제\n",
    "\n",
    "    for i in range(pos+1, size, 1) : \n",
    "        kakaotalk[i-1] = kakaotalk[i] # 뒤에 있는 값을 앞으로 \n",
    "        kakaotalk[i] = None\n",
    "\n",
    "    del(kakaotalk[size-1]) # 배열의 맨 마지막값 삭제"
   ]
  },
  {
   "cell_type": "code",
   "execution_count": 65,
   "metadata": {},
   "outputs": [
    {
     "name": "stdout",
     "output_type": "stream",
     "text": [
      "['미나', '모모', '솔라', '나연', '채영', '문별']\n"
     ]
    }
   ],
   "source": [
    "delete_data(3)\n",
    "print(kakaotalk)"
   ]
  },
  {
   "cell_type": "code",
   "execution_count": 66,
   "metadata": {},
   "outputs": [
    {
     "name": "stdout",
     "output_type": "stream",
     "text": [
      "데이터 삭제범위 초과\n",
      "['미나', '모모', '솔라', '나연', '채영', '문별']\n"
     ]
    }
   ],
   "source": [
    "delete_data(6)\n",
    "print(kakaotalk)"
   ]
  }
 ],
 "metadata": {
  "kernelspec": {
   "display_name": "Python 3",
   "language": "python",
   "name": "python3"
  },
  "language_info": {
   "codemirror_mode": {
    "name": "ipython",
    "version": 3
   },
   "file_extension": ".py",
   "mimetype": "text/x-python",
   "name": "python",
   "nbconvert_exporter": "python",
   "pygments_lexer": "ipython3",
   "version": "3.11.5"
  }
 },
 "nbformat": 4,
 "nbformat_minor": 2
}
